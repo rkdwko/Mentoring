{
 "cells": [
  {
   "cell_type": "markdown",
   "metadata": {},
   "source": [
    "## 1. 함수"
   ]
  },
  {
   "cell_type": "markdown",
   "metadata": {},
   "source": [
    "def 함수명(입력피라미터):<br>\n",
    "　　문장1<br>\n",
    "　　문장2<br>\n",
    "　　[return 리턴값]"
   ]
  },
  {
   "cell_type": "code",
   "execution_count": 1,
   "metadata": {},
   "outputs": [
    {
     "name": "stdout",
     "output_type": "stream",
     "text": [
      "11\n"
     ]
    }
   ],
   "source": [
    "def sum(a,b):\n",
    "    s = a+b\n",
    "    return s\n",
    "\n",
    "total = sum(4,7)\n",
    "print(total)"
   ]
  },
  {
   "cell_type": "markdown",
   "metadata": {},
   "source": [
    "## 2. 피라미터 전달방식"
   ]
  },
  {
   "cell_type": "code",
   "execution_count": 2,
   "metadata": {},
   "outputs": [
    {
     "name": "stdout",
     "output_type": "stream",
     "text": [
      "10 [1, 2, 3, 0]\n"
     ]
    }
   ],
   "source": [
    "# 함수내에서 i, mylist 값 변경\n",
    "def f(i, mylist):\n",
    "    i = i+1\n",
    "    mylist.append(0)\n",
    "    \n",
    "k = 10      # k는 int\n",
    "m = [1,2,3] # m은 리스트\n",
    "\n",
    "f(k, m) # 함수 호출\n",
    "print(k, m) # 호출자 값 체크"
   ]
  },
  {
   "cell_type": "markdown",
   "metadata": {},
   "source": [
    "## 3. Defalut Parameter"
   ]
  },
  {
   "cell_type": "code",
   "execution_count": 3,
   "metadata": {},
   "outputs": [
    {
     "name": "stdout",
     "output_type": "stream",
     "text": [
      "200\n"
     ]
    }
   ],
   "source": [
    "def calc(i, j, factor = 1):\n",
    "    return i * j * factor\n",
    "\n",
    "result = calc(10, 20)\n",
    "print(result)"
   ]
  },
  {
   "cell_type": "markdown",
   "metadata": {},
   "source": [
    "## 4. Named Parameter"
   ]
  },
  {
   "cell_type": "code",
   "execution_count": 5,
   "metadata": {},
   "outputs": [
    {
     "name": "stdout",
     "output_type": "stream",
     "text": [
      "Kim 80\n"
     ]
    }
   ],
   "source": [
    "def report(name, age, score):\n",
    "    print(name, score)\n",
    "    \n",
    "report(age=10, name=\"Kim\", score=80)"
   ]
  },
  {
   "cell_type": "markdown",
   "metadata": {},
   "source": [
    "## 5. 가변길이 파라미터"
   ]
  },
  {
   "cell_type": "code",
   "execution_count": 6,
   "metadata": {},
   "outputs": [
    {
     "name": "stdout",
     "output_type": "stream",
     "text": [
      "3\n",
      "14\n"
     ]
    }
   ],
   "source": [
    "def total(*numbers):\n",
    "    tot = 0\n",
    "    for n in numbers:\n",
    "        tot += n\n",
    "    return tot\n",
    "\n",
    "t = total(1,2)\n",
    "print(t)\n",
    "t = total(1,5,2,6)\n",
    "print(t)"
   ]
  },
  {
   "cell_type": "markdown",
   "metadata": {},
   "source": [
    "## 6. 리턴값"
   ]
  },
  {
   "cell_type": "code",
   "execution_count": 7,
   "metadata": {},
   "outputs": [
    {
     "name": "stdout",
     "output_type": "stream",
     "text": [
      "4 14\n"
     ]
    }
   ],
   "source": [
    "def calc(*numbers):\n",
    "    count = 0\n",
    "    tot = 0\n",
    "    for n in numbers:\n",
    "        count += 1\n",
    "        tot += n\n",
    "    return count, tot\n",
    "\n",
    "count, sum = calc(1,5,2,6) # (count, tot) 튜플을 리턴\n",
    "print(count, sum)"
   ]
  }
 ],
 "metadata": {
  "kernelspec": {
   "display_name": "Python 3",
   "language": "python",
   "name": "python3"
  },
  "language_info": {
   "codemirror_mode": {
    "name": "ipython",
    "version": 3
   },
   "file_extension": ".py",
   "mimetype": "text/x-python",
   "name": "python",
   "nbconvert_exporter": "python",
   "pygments_lexer": "ipython3",
   "version": "3.7.3"
  }
 },
 "nbformat": 4,
 "nbformat_minor": 2
}
