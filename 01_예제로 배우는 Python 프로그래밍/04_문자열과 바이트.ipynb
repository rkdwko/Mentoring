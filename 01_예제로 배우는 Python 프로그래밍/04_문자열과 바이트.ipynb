{
 "cells": [
  {
   "cell_type": "markdown",
   "metadata": {},
   "source": [
    "## 1. 문자열"
   ]
  },
  {
   "cell_type": "code",
   "execution_count": 1,
   "metadata": {},
   "outputs": [
    {
     "name": "stdout",
     "output_type": "stream",
     "text": [
      "가나다\n"
     ]
    }
   ],
   "source": [
    "s = '가나다'\n",
    "print(s)"
   ]
  },
  {
   "cell_type": "code",
   "execution_count": 2,
   "metadata": {},
   "outputs": [
    {
     "name": "stdout",
     "output_type": "stream",
     "text": [
      "가나다\n"
     ]
    }
   ],
   "source": [
    "s = \"가나다\"\n",
    "print(s)"
   ]
  },
  {
   "cell_type": "code",
   "execution_count": 3,
   "metadata": {},
   "outputs": [
    {
     "name": "stdout",
     "output_type": "stream",
     "text": [
      "아리랑\n",
      "아리랑\n",
      "아라리요\n",
      "\n"
     ]
    }
   ],
   "source": [
    "s = '''아리랑\n",
    "아리랑\n",
    "아라리요\n",
    "'''\n",
    "print(s)"
   ]
  },
  {
   "cell_type": "code",
   "execution_count": 4,
   "metadata": {},
   "outputs": [
    {
     "name": "stdout",
     "output_type": "stream",
     "text": [
      "아리랑\n",
      "아리랑\n",
      "아라리요\n"
     ]
    }
   ],
   "source": [
    "s = '아리랑\\n아리랑\\n아라리요'\n",
    "print(s)"
   ]
  },
  {
   "cell_type": "markdown",
   "metadata": {},
   "source": [
    "### 문자열 포맷팅"
   ]
  },
  {
   "cell_type": "code",
   "execution_count": 5,
   "metadata": {},
   "outputs": [
    {
     "name": "stdout",
     "output_type": "stream",
     "text": [
      "이름: 김유신 나이: 65\n"
     ]
    }
   ],
   "source": [
    "p = \"이름: %s 나이: %d\" % (\"김유신\", 65)\n",
    "print(p)"
   ]
  },
  {
   "cell_type": "code",
   "execution_count": 8,
   "metadata": {},
   "outputs": [
    {
     "name": "stdout",
     "output_type": "stream",
     "text": [
      "이름 : 김유신 나이 : 65\n"
     ]
    }
   ],
   "source": [
    "p = \"이름 : %s 나이 : %d\" % (\"김유신\", 65)\n",
    "print(p)"
   ]
  },
  {
   "cell_type": "code",
   "execution_count": 9,
   "metadata": {},
   "outputs": [
    {
     "name": "stdout",
     "output_type": "stream",
     "text": [
      "이름 : 이웅희 나이 : 27\n"
     ]
    }
   ],
   "source": [
    "p = \"이름 : %s 나이 : %d\" % (\"이웅희\", 27)\n",
    "print(p)"
   ]
  },
  {
   "cell_type": "code",
   "execution_count": 10,
   "metadata": {},
   "outputs": [
    {
     "name": "stdout",
     "output_type": "stream",
     "text": [
      "이름 : 조병무 나이 : 27\n"
     ]
    }
   ],
   "source": [
    "p = \"이름 : %s 나이 : %d\" % (\"조병무\", 27)\n",
    "print(p)"
   ]
  },
  {
   "cell_type": "code",
   "execution_count": 11,
   "metadata": {},
   "outputs": [
    {
     "name": "stdout",
     "output_type": "stream",
     "text": [
      "이름 : 김상규 나이 : 29\n"
     ]
    }
   ],
   "source": [
    "p = \"이름 : %s 나이 : %d\" % (\"김상규\", 29)\n",
    "print(p)"
   ]
  },
  {
   "cell_type": "markdown",
   "metadata": {},
   "source": [
    "1. %s : 문자열(파이썬 객체를 str()을 사용하여 변환)<br>\n",
    "2. %r : 문자열(파이썬 객체를 repr()을 사용하여 변환)<br>\n",
    "3. %c : 문자(char)<br>\n",
    "4. %d 또는 %i : 정수(int)<br>\n",
    "5. %f 또는 %F : 부동소수(float)(%f 소문자 / %F 대문자)<br>\n",
    "6. %e 또는 %E : 지수형 부동소수(소문자/대문자)<br>\n",
    "7. %g 또는 %G : 일반형 : 값에 따라 %e 혹은 %f 사용(소문자/대문자)<br>\n",
    "8. %o 또는 %O : 8진수(소문자/대문자)<br>\n",
    "9. %x 또는 %X : 16진수(소문자/대문자)<br>\n",
    "10. %% : % 퍼센트 리터럴"
   ]
  },
  {
   "cell_type": "markdown",
   "metadata": {},
   "source": [
    "## 2. str(문자열 클래스)"
   ]
  },
  {
   "cell_type": "code",
   "execution_count": 12,
   "metadata": {},
   "outputs": [
    {
     "data": {
      "text/plain": [
       "str"
      ]
     },
     "execution_count": 12,
     "metadata": {},
     "output_type": "execute_result"
    }
   ],
   "source": [
    "s = \"ABC\"\n",
    "type(s)"
   ]
  },
  {
   "cell_type": "code",
   "execution_count": 13,
   "metadata": {},
   "outputs": [
    {
     "data": {
      "text/plain": [
       "str"
      ]
     },
     "execution_count": 13,
     "metadata": {},
     "output_type": "execute_result"
    }
   ],
   "source": [
    "v = s[1]\n",
    "type(s[1])"
   ]
  },
  {
   "cell_type": "markdown",
   "metadata": {},
   "source": [
    "## 3. 자주 사용되는 str 메서드"
   ]
  },
  {
   "cell_type": "markdown",
   "metadata": {},
   "source": [
    "### str.join()"
   ]
  },
  {
   "cell_type": "code",
   "execution_count": 14,
   "metadata": {},
   "outputs": [
    {
     "name": "stdout",
     "output_type": "stream",
     "text": [
      "가나,다라,마바\n"
     ]
    }
   ],
   "source": [
    "s = ','.join(['가나','다라','마바'])\n",
    "print(s)"
   ]
  },
  {
   "cell_type": "code",
   "execution_count": 19,
   "metadata": {},
   "outputs": [
    {
     "name": "stdout",
     "output_type": "stream",
     "text": [
      "가나 다라 마바\n"
     ]
    }
   ],
   "source": [
    "s = ' '.join(['가나','다라','마바'])\n",
    "print(s)"
   ]
  },
  {
   "cell_type": "markdown",
   "metadata": {},
   "source": [
    "### str.split()"
   ]
  },
  {
   "cell_type": "code",
   "execution_count": 18,
   "metadata": {},
   "outputs": [
    {
     "name": "stdout",
     "output_type": "stream",
     "text": [
      "['가나', '다라', '마바']\n"
     ]
    }
   ],
   "source": [
    "items = '가나,다라,마바'.split(',')\n",
    "print(items)"
   ]
  },
  {
   "cell_type": "markdown",
   "metadata": {},
   "source": [
    "### str.partition()"
   ]
  },
  {
   "cell_type": "code",
   "execution_count": 20,
   "metadata": {},
   "outputs": [
    {
     "name": "stdout",
     "output_type": "stream",
     "text": [
      "Seattle\n"
     ]
    }
   ],
   "source": [
    "departure, _, arrival = \"Seattle-Seoul\".partition('-')\n",
    "print(departure)"
   ]
  },
  {
   "cell_type": "markdown",
   "metadata": {},
   "source": [
    "### str.format()"
   ]
  },
  {
   "cell_type": "code",
   "execution_count": 21,
   "metadata": {},
   "outputs": [
    {
     "name": "stdout",
     "output_type": "stream",
     "text": [
      "Name: 강정수, Age: 30\n"
     ]
    }
   ],
   "source": [
    "# 위치를 기준으로 한 포맷팅\n",
    "s = \"Name: {0}, Age: {1}\".format(\"강정수\", 30)\n",
    "print(s)"
   ]
  },
  {
   "cell_type": "code",
   "execution_count": 22,
   "metadata": {},
   "outputs": [
    {
     "name": "stdout",
     "output_type": "stream",
     "text": [
      "Name: 강정수, Age: 30\n"
     ]
    }
   ],
   "source": [
    "# 필드명을 기준으로 한 포맷팅\n",
    "s = \"Name: {name}, Age: {age}\".format(name=\"강정수\", age=30)\n",
    "print(s)"
   ]
  },
  {
   "cell_type": "code",
   "execution_count": 23,
   "metadata": {},
   "outputs": [
    {
     "name": "stdout",
     "output_type": "stream",
     "text": [
      "width: 10, height: 20\n"
     ]
    }
   ],
   "source": [
    "# object의 인덱스 혹은 키를 사용하여 포맷팅\n",
    "area = (10, 20)\n",
    "s = \"width: {x[0]}, height: {x[1]}\".format(x = area)\n",
    "print(s)"
   ]
  },
  {
   "cell_type": "markdown",
   "metadata": {},
   "source": [
    "## 4. bytes"
   ]
  },
  {
   "cell_type": "code",
   "execution_count": 24,
   "metadata": {},
   "outputs": [
    {
     "name": "stdout",
     "output_type": "stream",
     "text": [
      "72\n",
      "101\n",
      "108\n",
      "108\n",
      "111\n"
     ]
    }
   ],
   "source": [
    "text = b\"Hello\"\n",
    "for c in text:\n",
    "    print(c)"
   ]
  },
  {
   "cell_type": "code",
   "execution_count": 25,
   "metadata": {},
   "outputs": [
    {
     "data": {
      "text/plain": [
       "'Aå'"
      ]
     },
     "execution_count": 25,
     "metadata": {},
     "output_type": "execute_result"
    }
   ],
   "source": [
    "s1 = \"A\\u00e5\"\n",
    "s1"
   ]
  },
  {
   "cell_type": "code",
   "execution_count": 26,
   "metadata": {},
   "outputs": [
    {
     "data": {
      "text/plain": [
       "b'A\\xc3\\xa5'"
      ]
     },
     "execution_count": 26,
     "metadata": {},
     "output_type": "execute_result"
    }
   ],
   "source": [
    "b = s1.encode('utf-8')\n",
    "b"
   ]
  },
  {
   "cell_type": "code",
   "execution_count": 27,
   "metadata": {},
   "outputs": [
    {
     "data": {
      "text/plain": [
       "'Aå'"
      ]
     },
     "execution_count": 27,
     "metadata": {},
     "output_type": "execute_result"
    }
   ],
   "source": [
    "s2 = b.decode('utf-8')\n",
    "s2"
   ]
  }
 ],
 "metadata": {
  "kernelspec": {
   "display_name": "Python 3",
   "language": "python",
   "name": "python3"
  },
  "language_info": {
   "codemirror_mode": {
    "name": "ipython",
    "version": 3
   },
   "file_extension": ".py",
   "mimetype": "text/x-python",
   "name": "python",
   "nbconvert_exporter": "python",
   "pygments_lexer": "ipython3",
   "version": "3.7.3"
  }
 },
 "nbformat": 4,
 "nbformat_minor": 2
}
