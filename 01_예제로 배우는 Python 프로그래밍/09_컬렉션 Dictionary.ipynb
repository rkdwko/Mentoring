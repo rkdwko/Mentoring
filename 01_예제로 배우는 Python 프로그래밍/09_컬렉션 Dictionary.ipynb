{
 "cells": [
  {
   "cell_type": "markdown",
   "metadata": {},
   "source": [
    "## 1. Dictionary(dict)"
   ]
  },
  {
   "cell_type": "code",
   "execution_count": 2,
   "metadata": {},
   "outputs": [
    {
     "name": "stdout",
     "output_type": "stream",
     "text": [
      "85\n"
     ]
    }
   ],
   "source": [
    "scores = {\"철수\" : 90, \"민수\" : 85, \"영희\" : 80}\n",
    "v = scores[\"민수\"]\n",
    "scores[\"민수\"] = 88\n",
    "print(v)"
   ]
  },
  {
   "cell_type": "code",
   "execution_count": 4,
   "metadata": {},
   "outputs": [
    {
     "name": "stdout",
     "output_type": "stream",
     "text": [
      "35\n"
     ]
    }
   ],
   "source": [
    "# Tuple List로부터 dict 생성\n",
    "persons = [('김기수', 30), ('홍대길', 35), ('강찬수', 25)]\n",
    "mydict = dict(persons)\n",
    "\n",
    "age = mydict[\"홍대길\"]\n",
    "print(age)"
   ]
  },
  {
   "cell_type": "code",
   "execution_count": 5,
   "metadata": {},
   "outputs": [
    {
     "name": "stdout",
     "output_type": "stream",
     "text": [
      "90\n"
     ]
    }
   ],
   "source": [
    "# Key=Value 파리미터로부터 dict 생성\n",
    "scores = dict(a=80, b=90, c=85)\n",
    "print(scores['b'])"
   ]
  },
  {
   "cell_type": "markdown",
   "metadata": {},
   "source": [
    "## 2. 추가, 수정, 삭제, 읽기"
   ]
  },
  {
   "cell_type": "code",
   "execution_count": 6,
   "metadata": {},
   "outputs": [
    {
     "name": "stdout",
     "output_type": "stream",
     "text": [
      "{'철수': 90, '민수': 88, '길동': 95}\n"
     ]
    }
   ],
   "source": [
    "scores = {\"철수\" : 90, \"민수\" : 85, \"영희\" : 80}\n",
    "scores[\"민수\"] = 88 # 수정\n",
    "scores[\"길동\"] = 95 # 추가\n",
    "del scores[\"영희\"]\n",
    "print(scores)"
   ]
  },
  {
   "cell_type": "code",
   "execution_count": 9,
   "metadata": {},
   "outputs": [
    {
     "name": "stdout",
     "output_type": "stream",
     "text": [
      "철수 : 90\n",
      "민수 : 85\n",
      "영희 : 80\n"
     ]
    }
   ],
   "source": [
    "scores = {\"철수\": 90, \"민수\": 85, \"영희\": 80}\n",
    " \n",
    "for key in scores:\n",
    "    val = scores[key]\n",
    "    print(\"%s : %d\" % (key, val))"
   ]
  },
  {
   "cell_type": "markdown",
   "metadata": {},
   "source": [
    "## 3. 유용한 dict 메서드"
   ]
  },
  {
   "cell_type": "code",
   "execution_count": 10,
   "metadata": {},
   "outputs": [
    {
     "name": "stdout",
     "output_type": "stream",
     "text": [
      "철수\n",
      "민수\n",
      "영희\n"
     ]
    }
   ],
   "source": [
    "scores = {\"철수\":90, \"민수\":85, \"영희\":80}\n",
    "\n",
    "# keys\n",
    "keys = scores.keys()\n",
    "for k in keys:\n",
    "    print(k)"
   ]
  },
  {
   "cell_type": "code",
   "execution_count": 11,
   "metadata": {},
   "outputs": [
    {
     "name": "stdout",
     "output_type": "stream",
     "text": [
      "90\n",
      "85\n",
      "80\n"
     ]
    }
   ],
   "source": [
    "# values\n",
    "values = scores.values()\n",
    "for v in values:\n",
    "    print(v)"
   ]
  },
  {
   "cell_type": "code",
   "execution_count": 13,
   "metadata": {},
   "outputs": [
    {
     "name": "stdout",
     "output_type": "stream",
     "text": [
      "dict_items([('철수', 90), ('민수', 85), ('영희', 80)])\n"
     ]
    }
   ],
   "source": [
    "scores = {\"철수\": 90, \"민수\":85, \"영희\": 80}\n",
    "\n",
    "items = scores.items()\n",
    "print(items)"
   ]
  },
  {
   "cell_type": "code",
   "execution_count": 14,
   "metadata": {},
   "outputs": [],
   "source": [
    "# dict_items를 리스트로 변환할 때\n",
    "itemsList = list(items)"
   ]
  },
  {
   "cell_type": "code",
   "execution_count": 17,
   "metadata": {},
   "outputs": [
    {
     "name": "stdout",
     "output_type": "stream",
     "text": [
      "85\n"
     ]
    }
   ],
   "source": [
    "scores = {\"철수\":90, \"민수\":85, \"영희\":80}\n",
    "v = scores.get(\"민수\")\n",
    "print(v)"
   ]
  },
  {
   "cell_type": "code",
   "execution_count": 18,
   "metadata": {},
   "outputs": [
    {
     "name": "stdout",
     "output_type": "stream",
     "text": [
      "None\n"
     ]
    }
   ],
   "source": [
    "v = scores.get(\"길동\")\n",
    "print(v)"
   ]
  },
  {
   "cell_type": "code",
   "execution_count": null,
   "metadata": {},
   "outputs": [],
   "source": [
    "v = scores[\"길동\"] # 에러 발생"
   ]
  },
  {
   "cell_type": "code",
   "execution_count": 19,
   "metadata": {},
   "outputs": [
    {
     "name": "stdout",
     "output_type": "stream",
     "text": [
      "{}\n"
     ]
    }
   ],
   "source": [
    "# 멤버쉽연산자 in 사용\n",
    "if \"길동\" in scores:\n",
    "    print(scores[\"길동\"])\n",
    "    \n",
    "scores.clear() # 모두 삭제\n",
    "print(scores)"
   ]
  },
  {
   "cell_type": "code",
   "execution_count": 20,
   "metadata": {},
   "outputs": [],
   "source": [
    "persons = [('김기수', 30), ('홍대길', 35), ('강찬수', 25)]\n",
    "mydict = dict(persons)\n",
    "\n",
    "mydict.update({'홍대길':33, '강찬수':26})"
   ]
  }
 ],
 "metadata": {
  "kernelspec": {
   "display_name": "Python 3",
   "language": "python",
   "name": "python3"
  },
  "language_info": {
   "codemirror_mode": {
    "name": "ipython",
    "version": 3
   },
   "file_extension": ".py",
   "mimetype": "text/x-python",
   "name": "python",
   "nbconvert_exporter": "python",
   "pygments_lexer": "ipython3",
   "version": "3.7.3"
  }
 },
 "nbformat": 4,
 "nbformat_minor": 2
}
