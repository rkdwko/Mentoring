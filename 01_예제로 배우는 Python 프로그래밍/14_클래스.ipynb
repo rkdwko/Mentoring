{
 "cells": [
  {
   "cell_type": "markdown",
   "metadata": {},
   "source": [
    "## 1. 클래스"
   ]
  },
  {
   "cell_type": "code",
   "execution_count": 1,
   "metadata": {},
   "outputs": [],
   "source": [
    "class MyClass:\n",
    "    pass"
   ]
  },
  {
   "cell_type": "markdown",
   "metadata": {},
   "source": [
    "## 2. 클래스 멤버"
   ]
  },
  {
   "cell_type": "markdown",
   "metadata": {},
   "source": [
    "### 메서드"
   ]
  },
  {
   "cell_type": "code",
   "execution_count": 2,
   "metadata": {},
   "outputs": [],
   "source": [
    "class Rectangle:\n",
    "    count = 0\n",
    "    \n",
    "    # 초기자(initializer)\n",
    "    def _init_(self, width, height):\n",
    "        self.width = width\n",
    "        self.height = height\n",
    "        Rectangle.count += 1\n",
    "        \n",
    "    # 메서드\n",
    "    def calcArea(self):\n",
    "        area = self.width * self.height\n",
    "        return area"
   ]
  },
  {
   "cell_type": "markdown",
   "metadata": {},
   "source": [
    "### 클래스 변수"
   ]
  },
  {
   "cell_type": "code",
   "execution_count": 3,
   "metadata": {},
   "outputs": [],
   "source": [
    "class Rectangle:\n",
    "    Rectangle.count = 0 # 클래스 변수\n",
    "    \n",
    "    # 초기자(initializer)\n",
    "    def _init_(self, width, height):\n",
    "        self.width = width\n",
    "        self.height = height\n",
    "        Rectangle.count += 1\n",
    "        \n",
    "    # 메서드\n",
    "    def calcArea(self):\n",
    "        area = self.width * self.height\n",
    "        return area"
   ]
  },
  {
   "cell_type": "markdown",
   "metadata": {},
   "source": [
    "### 인스턴스 변수"
   ]
  },
  {
   "cell_type": "code",
   "execution_count": 4,
   "metadata": {},
   "outputs": [],
   "source": [
    "def __init__(self, width, height):\n",
    "    self.width = width\n",
    "    self.height = height\n",
    " \n",
    "    # private 변수 __area\n",
    "    self.__area = width * height\n",
    " \n",
    "# private 메서드\n",
    "def __internalRun(self):\n",
    "    pass"
   ]
  },
  {
   "cell_type": "markdown",
   "metadata": {},
   "source": [
    "### Initializer(초기자)"
   ]
  },
  {
   "cell_type": "markdown",
   "metadata": {},
   "source": [
    "### 정적 메서드와 클래스 메서드"
   ]
  },
  {
   "cell_type": "code",
   "execution_count": 5,
   "metadata": {},
   "outputs": [
    {
     "name": "stdout",
     "output_type": "stream",
     "text": [
      "True\n",
      "2\n"
     ]
    }
   ],
   "source": [
    "class Rectangle:\n",
    "    count = 0  # 클래스 변수\n",
    " \n",
    "    def __init__(self, width, height):\n",
    "        self.width = width\n",
    "        self.height = height\n",
    "        Rectangle.count += 1\n",
    " \n",
    "    # 인스턴스 메서드\n",
    "    def calcArea(self):\n",
    "        area = self.width * self.height\n",
    "        return area\n",
    " \n",
    "    # 정적 메서드\n",
    "    @staticmethod\n",
    "    def isSquare(rectWidth, rectHeight):\n",
    "        return rectWidth == rectHeight   \n",
    " \n",
    "    # 클래스 메서드\n",
    "    @classmethod\n",
    "    def printCount(cls):\n",
    "        print(cls.count)   \n",
    " \n",
    " \n",
    "# 테스트\n",
    "square = Rectangle.isSquare(5, 5)        \n",
    "print(square)   # True        \n",
    " \n",
    "rect1 = Rectangle(5, 5)\n",
    "rect2 = Rectangle(2, 5)\n",
    "rect1.printCount()  # 2 "
   ]
  },
  {
   "cell_type": "markdown",
   "metadata": {},
   "source": [
    "### Special Method (Magic Method)"
   ]
  },
  {
   "cell_type": "code",
   "execution_count": null,
   "metadata": {},
   "outputs": [],
   "source": [
    "def __add__(self, other):\n",
    "    obj = Rectangle(self.width + other.width, self.height + other.height)\n",
    "    return obj\n",
    " \n",
    "# 사용 예\n",
    "r1 = Rectangle(10, 5)\n",
    "r2 = Rectangle(20, 15)\n",
    "r3 = r1 + r2"
   ]
  },
  {
   "cell_type": "markdown",
   "metadata": {},
   "source": [
    "## 클래스 인스턴스의 생성과 사용"
   ]
  },
  {
   "cell_type": "code",
   "execution_count": 9,
   "metadata": {},
   "outputs": [],
   "source": [
    "# 인스턴스 생성\n",
    "r = Rectangle(2, 3)"
   ]
  },
  {
   "cell_type": "code",
   "execution_count": 10,
   "metadata": {},
   "outputs": [
    {
     "name": "stdout",
     "output_type": "stream",
     "text": [
      "area =  6\n"
     ]
    }
   ],
   "source": [
    "# 메서드 호출\n",
    "area = r.calcArea()\n",
    "print(\"area = \", area)"
   ]
  },
  {
   "cell_type": "code",
   "execution_count": 11,
   "metadata": {},
   "outputs": [
    {
     "name": "stdout",
     "output_type": "stream",
     "text": [
      "width =  10\n"
     ]
    }
   ],
   "source": [
    "# 인스턴스 변수 엑세스\n",
    "r.width = 10\n",
    "print(\"width = \", r.width)"
   ]
  },
  {
   "cell_type": "code",
   "execution_count": 12,
   "metadata": {},
   "outputs": [
    {
     "name": "stdout",
     "output_type": "stream",
     "text": [
      "9\n",
      "9\n"
     ]
    }
   ],
   "source": [
    "# 클래스 변수 엑세스\n",
    "print(Rectangle.count)\n",
    "print(r.count)"
   ]
  },
  {
   "cell_type": "code",
   "execution_count": 13,
   "metadata": {},
   "outputs": [
    {
     "name": "stdout",
     "output_type": "stream",
     "text": [
      "10 50\n"
     ]
    }
   ],
   "source": [
    "r = Rectangle(2, 3)\n",
    " \n",
    "Rectangle.count = 50\n",
    "r.count = 10   # count 인스턴스 변수가 새로 생성됨\n",
    " \n",
    "print(r.count, Rectangle.count)  # 10  50 출력"
   ]
  },
  {
   "cell_type": "markdown",
   "metadata": {},
   "source": [
    "## 4. 클래스 상속과 다형성"
   ]
  },
  {
   "cell_type": "code",
   "execution_count": 14,
   "metadata": {},
   "outputs": [],
   "source": [
    "class Animal:\n",
    "    def __init__(self, name):\n",
    "        self.name = name\n",
    "    def move(self):\n",
    "        print(\"move\")\n",
    "    def speak(self):\n",
    "        pass\n",
    " \n",
    "class Dog (Animal):\n",
    "    def speak(self):\n",
    "        print(\"bark\")\n",
    " \n",
    "class Duck (Animal):\n",
    "    def speak(self):\n",
    "        print(\"quack\")"
   ]
  },
  {
   "cell_type": "code",
   "execution_count": 15,
   "metadata": {},
   "outputs": [
    {
     "name": "stdout",
     "output_type": "stream",
     "text": [
      "move\n",
      "bark\n"
     ]
    }
   ],
   "source": [
    "dog = Dog(\"doggy\") # 부모클래스의 생성자\n",
    "n = dog.name # 부모클래스의 인스턴스변수\n",
    "dog.move()   # 부모클래스의 메서드\n",
    "dog.speak()  # 파생클래스의 멤버"
   ]
  },
  {
   "cell_type": "code",
   "execution_count": 16,
   "metadata": {},
   "outputs": [
    {
     "name": "stdout",
     "output_type": "stream",
     "text": [
      "bark\n",
      "quack\n"
     ]
    }
   ],
   "source": [
    "animals = [Dog('doggy'), Duck('duck')]\n",
    " \n",
    "for a in animals:\n",
    "    a.speak()"
   ]
  }
 ],
 "metadata": {
  "kernelspec": {
   "display_name": "Python 3",
   "language": "python",
   "name": "python3"
  },
  "language_info": {
   "codemirror_mode": {
    "name": "ipython",
    "version": 3
   },
   "file_extension": ".py",
   "mimetype": "text/x-python",
   "name": "python",
   "nbconvert_exporter": "python",
   "pygments_lexer": "ipython3",
   "version": "3.7.3"
  }
 },
 "nbformat": 4,
 "nbformat_minor": 2
}
