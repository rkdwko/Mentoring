{
 "cells": [
  {
   "cell_type": "markdown",
   "metadata": {
    "_uuid": "1dbfb0bb3400e7441958d9e5f4e517ba3d072af2"
   },
   "source": [
    "Titnaic intro"
   ]
  },
  {
   "cell_type": "markdown",
   "metadata": {
    "_uuid": "b7582d1340cbd39515f14b457e0c8be95d07b586"
   },
   "source": [
    "# 1. Titanic data explore"
   ]
  },
  {
   "cell_type": "code",
   "execution_count": 32,
   "metadata": {
    "_uuid": "52558f72e85eb9f472ba7a0796243efca2e95ee7",
    "collapsed": true
   },
   "outputs": [],
   "source": [
    "import pandas as pd\n",
    "\n",
    "\n",
    "train = pd.read_csv('../input/train.csv')\n",
    "test = pd.read_csv('../input/test.csv')"
   ]
  },
  {
   "cell_type": "code",
   "execution_count": 33,
   "metadata": {
    "_uuid": "fd94ba577a2df978e72f0eb4ca7a2c32828502e1"
   },
   "outputs": [],
   "source": [
    "train.head()"
   ]
  },
  {
   "cell_type": "code",
   "execution_count": 34,
   "metadata": {
    "_uuid": "3edd7b89cd3ef0c2c8576619ef4272a640b5f392",
    "scrolled": true
   },
   "outputs": [],
   "source": [
    "test.head() #test data set don't have survived col because it's target column"
   ]
  },
  {
   "cell_type": "code",
   "execution_count": 35,
   "metadata": {
    "_uuid": "7251a02d710a5b2fb58790e7eafa6d652994f113"
   },
   "outputs": [],
   "source": [
    "train.shape"
   ]
  },
  {
   "cell_type": "code",
   "execution_count": 36,
   "metadata": {
    "_uuid": "b102d1941bccc1547cfdce42698aa0227cbfb33b"
   },
   "outputs": [],
   "source": [
    "test.shape #11cols  = survived is not included in test data set"
   ]
  },
  {
   "cell_type": "code",
   "execution_count": 37,
   "metadata": {
    "_uuid": "ae7cdcb1b317cab32e83a1a4481509ecb96bd229"
   },
   "outputs": [],
   "source": [
    "train.info() #Nan in Age, Cabin columns"
   ]
  },
  {
   "cell_type": "code",
   "execution_count": 38,
   "metadata": {
    "_uuid": "a3497476344ef0b4bdf32f8d0bfae5cf4fc23ad2"
   },
   "outputs": [],
   "source": [
    "test.info()"
   ]
  },
  {
   "cell_type": "code",
   "execution_count": 39,
   "metadata": {
    "_uuid": "c077a5eda21050b33364ceedcb8ee8f63599fd16"
   },
   "outputs": [],
   "source": [
    "train.isnull().sum() #you can check Nan value also like this "
   ]
  },
  {
   "cell_type": "markdown",
   "metadata": {
    "_uuid": "0243f1cf81eaeeb3739ad6c5ad9d7f0d02e5494d"
   },
   "source": [
    "# <h3>1-2. Data Visualization"
   ]
  },
  {
   "cell_type": "code",
   "execution_count": 41,
   "metadata": {
    "_uuid": "57af64f13021b47cc63d8106a6567f1c5e6d3707",
    "collapsed": true
   },
   "outputs": [],
   "source": [
    "import matplotlib.pyplot as plt\n",
    "%matplotlib inline\n",
    "import seaborn as sns\n",
    "sns.set() #setting seaborn default for plots - 디폴트 값으로 설정"
   ]
  },
  {
   "cell_type": "code",
   "execution_count": 43,
   "metadata": {
    "_uuid": "4e22bb4a49824ca0a65810ce5591b0c5faf96ee6",
    "collapsed": true
   },
   "outputs": [],
   "source": [
    "def bar_chart(feature):\n",
    "    survived = train[train['Survived']==1][feature].value_counts() #count survived people\n",
    "    dead = train[train['Survived']==0][feature].value_counts() #count dead people\n",
    "    df = pd.DataFrame([survived,dead]) #데이터프레임으로 묶고\n",
    "    df.index = ['Survived','Dead'] #add index\n",
    "    df.plot(kind='bar',stacked=True, figsize=(10,5)) #차트그리기 "
   ]
  },
  {
   "cell_type": "code",
   "execution_count": 44,
   "metadata": {
    "_uuid": "a0a112775f52191c18fce754ec9cb3b6ad3bbfb0"
   },
   "outputs": [],
   "source": [
    "bar_chart('Sex') #make polt based on sex"
   ]
  },
  {
   "cell_type": "markdown",
   "metadata": {
    "_uuid": "f38807bf154edd6e35cafd7a9f7057a2f58285a2"
   },
   "source": [
    "women are more surveve than men"
   ]
  },
  {
   "cell_type": "code",
   "execution_count": 45,
   "metadata": {
    "_uuid": "b27604f5086bacb8ff3176ea6b1ece71f6d67b43"
   },
   "outputs": [],
   "source": [
    "bar_chart('Pclass') "
   ]
  },
  {
   "cell_type": "markdown",
   "metadata": {
    "_uuid": "e6c1b2453f618d1fb1de85c78473915cbd032e3d"
   },
   "source": [
    "lower class shows that more likely to dead"
   ]
  },
  {
   "cell_type": "code",
   "execution_count": 46,
   "metadata": {
    "_uuid": "fb3cd474016cad8846e7c60b2738cf209fc6e1df",
    "scrolled": true
   },
   "outputs": [],
   "source": [
    "bar_chart('SibSp') "
   ]
  },
  {
   "cell_type": "markdown",
   "metadata": {
    "_uuid": "93c1393e1027dce923dc5862ef012f73cd7b84f6"
   },
   "source": [
    "혼자 탄 경우 조금 더 많이 죽었다"
   ]
  },
  {
   "cell_type": "code",
   "execution_count": 47,
   "metadata": {
    "_uuid": "c4a92da59acce512d9b5672eaa79dbd7ec696966"
   },
   "outputs": [],
   "source": [
    "bar_chart('Embarked') "
   ]
  },
  {
   "cell_type": "markdown",
   "metadata": {
    "_uuid": "f951a9e328810dadbcf65742ee67de52f5853135"
   },
   "source": [
    "애매하긴 하지만 S에서 탔을 경우 더 많이 죽을 가능성이 있다."
   ]
  },
  {
   "cell_type": "markdown",
   "metadata": {
    "_uuid": "7303821c9b609b8866120b42a7fa578239a361f8"
   },
   "source": [
    "# 2. Data processing"
   ]
  },
  {
   "cell_type": "code",
   "execution_count": 48,
   "metadata": {
    "_uuid": "db573406eb8db296fa5f0ffa6a7412978b0864f7"
   },
   "outputs": [],
   "source": [
    "train.head()"
   ]
  },
  {
   "cell_type": "markdown",
   "metadata": {
    "_uuid": "c9e4b0ee4c26e29015e079ba746da98cd878777f"
   },
   "source": [
    "1. generally, maching learning algorithms can't read char(text) data, so we need to change it as a number(int, float, and so on) with one hot encoding, binning.\n",
    "\n",
    "2. Need to do something about Nan data, drop it or fill it with median data, and so on."
   ]
  },
  {
   "cell_type": "markdown",
   "metadata": {
    "_uuid": "c3d4609e597eac0f4acbc3b77eed44c51cdaa74d"
   },
   "source": [
    "# <h3> 2-1. Name"
   ]
  },
  {
   "cell_type": "markdown",
   "metadata": {
    "_uuid": "51bd4691a1e135765512d18516868d4c58be6bc2"
   },
   "source": [
    "Mr. Mrs. Miss. will be valuealbe data, so we need to get that information."
   ]
  },
  {
   "cell_type": "code",
   "execution_count": 50,
   "metadata": {
    "_uuid": "a6537b0e510d0f7ba359a79efd303c5ca41e1258",
    "collapsed": true
   },
   "outputs": [],
   "source": [
    "train_test_data = [train, test] # train과 test set 합침"
   ]
  },
  {
   "cell_type": "code",
   "execution_count": 51,
   "metadata": {
    "_uuid": "cc92f5eaad7e9508cb562a748a1ace348bb0667e"
   },
   "outputs": [],
   "source": [
    "train_test_data #train(891 rows) + test(418 rows)가 합쳐진것 확인"
   ]
  },
  {
   "cell_type": "code",
   "execution_count": 52,
   "metadata": {
    "_uuid": "93d9dd3fad8381333554e5963dbe998b2be98b5b",
    "collapsed": true
   },
   "outputs": [],
   "source": [
    "for dataset in train_test_data:\n",
    "    dataset['Title'] = dataset['Name'].str.extract(' ([A-Za-z]+)\\.', expand = False)\n",
    "    "
   ]
  },
  {
   "cell_type": "markdown",
   "metadata": {
    "_uuid": "ba33fd24af82f8a5de85da7f2a807eef60e60776"
   },
   "source": [
    "Extract Mr. Mrs. Miss using  regular expression"
   ]
  },
  {
   "cell_type": "markdown",
   "metadata": {
    "_uuid": "e9bcc76337879328a8b505008c013a74de202d2f"
   },
   "source": [
    "([A-Za-z]+)\\.) is the core part of  regular expression.\n",
    "\n",
    "what It means..\n",
    "1. Start with capital letter from A to Z\n",
    "2. After this language, the letter will be a to z \n",
    "3. Escape character is '' . '  \n",
    "\n",
    "visit https://regexr.com/  for more info.\n"
   ]
  },
  {
   "cell_type": "code",
   "execution_count": 54,
   "metadata": {
    "_uuid": "6d684cd2dfacb012419c16aab77243863fb76d9d"
   },
   "outputs": [],
   "source": [
    "train['Title'].value_counts()"
   ]
  },
  {
   "cell_type": "code",
   "execution_count": 55,
   "metadata": {
    "_uuid": "b1dbdbf48309fa6948147e80ae35df3684c4da4f"
   },
   "outputs": [],
   "source": [
    "test['Title'].value_counts()"
   ]
  },
  {
   "cell_type": "markdown",
   "metadata": {
    "_uuid": "13a4371aef8949366c6715a6af565268ea137124"
   },
   "source": [
    "Title dictionary::<br>\n",
    "Mr = 0<br>\n",
    "Mrs = 1<br>\n",
    "Mrs = 2<br>\n",
    "Others = 3<br>\n",
    "\n"
   ]
  },
  {
   "cell_type": "code",
   "execution_count": 56,
   "metadata": {
    "_uuid": "5aa7f335e274a6e404dd8f84135a4271ef2340c4",
    "collapsed": true
   },
   "outputs": [],
   "source": [
    "title_mapping = {\"Mr\": 0, \"Miss\": 1, \"Mrs\": 2, \n",
    "                 \"Master\": 3, \"Dr\": 3, \"Rev\": 3, \"Col\": 3, \"Major\": 3, \"Mlle\": 3,\"Countess\": 3,\n",
    "                 \"Ms\": 3, \"Lady\": 3, \"Jonkheer\": 3, \"Don\": 3, \"Dona\" : 3, \"Mme\": 3,\"Capt\": 3,\"Sir\": 3 }\n",
    "for dataset in train_test_data:\n",
    "    dataset['Title'] = dataset['Title'].map(title_mapping)\n",
    "    \n",
    "    #위 Title Dictionary에 맞게 숫자를 mapping 해준다. 숫자로 바꾸는 이유는 아까 말했던 것처럼\n",
    "    #대부분 머신러닝 알고리즘들은 텍스트를 읽지 못하기 때문 "
   ]
  },
  {
   "cell_type": "code",
   "execution_count": 57,
   "metadata": {
    "_uuid": "bbca8a165a507c0dd31dc215bd6d87f39d9a4d6a"
   },
   "outputs": [],
   "source": [
    "train.head()"
   ]
  },
  {
   "cell_type": "code",
   "execution_count": 58,
   "metadata": {
    "_uuid": "23caeaa57fb94ceac4164e5efe7f3da21a1884e2"
   },
   "outputs": [],
   "source": [
    "test.head()"
   ]
  },
  {
   "cell_type": "markdown",
   "metadata": {
    "_uuid": "506bac9fa61207ec9ee4ed3e3a29d3406b644a21"
   },
   "source": [
    "이제 Name 칼럼을 삭제하자"
   ]
  },
  {
   "cell_type": "code",
   "execution_count": 59,
   "metadata": {
    "_uuid": "bf7664d7e981e7e2155990cb0f1d3dbe3e184155",
    "collapsed": true
   },
   "outputs": [],
   "source": [
    "train.drop('Name', axis=1, inplace=True)\n",
    "test.drop('Name', axis=1, inplace=True)"
   ]
  },
  {
   "cell_type": "code",
   "execution_count": 60,
   "metadata": {
    "_uuid": "8eb0f31c756bf7c5d90fdf35ac6f93fde4485bed"
   },
   "outputs": [],
   "source": [
    "train.head()"
   ]
  },
  {
   "cell_type": "code",
   "execution_count": 61,
   "metadata": {
    "_uuid": "4e665b44c72fe63949561af8402cd81031b29df0",
    "scrolled": true
   },
   "outputs": [],
   "source": [
    "test.head()"
   ]
  },
  {
   "cell_type": "code",
   "execution_count": 56,
   "metadata": {
    "_uuid": "94ea5af1e12cd414753665136cf51c5a20f80b1e"
   },
   "outputs": [],
   "source": [
    "bar_chart('Title')"
   ]
  },
  {
   "cell_type": "markdown",
   "metadata": {
    "_uuid": "ce75b656266ad5238ca49f7cd0c1726b927c753c"
   },
   "source": [
    "역시 남자(=0) 이 많이 죽었다"
   ]
  },
  {
   "cell_type": "markdown",
   "metadata": {
    "_uuid": "82205376f286bddc257a0bc6c7ba68964bc7f073"
   },
   "source": [
    "# <h3> 2-2. Sex"
   ]
  },
  {
   "cell_type": "code",
   "execution_count": 62,
   "metadata": {
    "_uuid": "0d9c9e583f4b3bc915298c40113a525683f56eb9",
    "collapsed": true
   },
   "outputs": [],
   "source": [
    "sex_mapping = {\"male\": 0, \"female\": 1}\n",
    "for dataset in train_test_data:\n",
    "    dataset['Sex'] = dataset['Sex'].map(sex_mapping)"
   ]
  },
  {
   "cell_type": "code",
   "execution_count": 63,
   "metadata": {
    "_uuid": "13ab0b54146fd2845fc835e62b5d1c23d4d2f73b"
   },
   "outputs": [],
   "source": [
    "bar_chart('Sex')"
   ]
  },
  {
   "cell_type": "markdown",
   "metadata": {
    "_uuid": "6436d5740ba2dab855561cfcea190942f421c876"
   },
   "source": [
    "# <h3> 2-3. Age"
   ]
  },
  {
   "cell_type": "markdown",
   "metadata": {
    "_uuid": "081c95cea91fb589a174776965bffe56de98d45d"
   },
   "source": [
    "fill Nan with median value of group(group of Mr. / group of Miss. / group of Mrs.)"
   ]
  },
  {
   "cell_type": "code",
   "execution_count": 64,
   "metadata": {
    "_uuid": "e3371a0bfeffa8b5aa902be025bce2e602361665"
   },
   "outputs": [],
   "source": [
    "train.head(30)"
   ]
  },
  {
   "cell_type": "code",
   "execution_count": 65,
   "metadata": {
    "_uuid": "4209d73dbec9e41061d9e72e386d2f25d2723a20",
    "collapsed": true
   },
   "outputs": [],
   "source": [
    "train[\"Age\"].fillna(train.groupby(\"Title\")[\"Age\"].transform(\"median\"), inplace=True)\n",
    "\n",
    "#train의 Age 칼럼의 nan값을 train의 title로 gourp을 지어서 해당 그룹의 age칼럼의 median값으로 대체하겠다.\n",
    "#0 = Mr, 1 = Mrs, 2 = Miss, 3 = Others\n"
   ]
  },
  {
   "cell_type": "code",
   "execution_count": 66,
   "metadata": {
    "_uuid": "0bf240136137444994d3791c6c36a3066a1a7194",
    "collapsed": true
   },
   "outputs": [],
   "source": [
    "test[\"Age\"].fillna(test.groupby(\"Title\")[\"Age\"].transform(\"median\"), inplace=True)\n",
    "#test 값을 ~ 위와동일\n"
   ]
  },
  {
   "cell_type": "code",
   "execution_count": 67,
   "metadata": {
    "_uuid": "3a4872c4809ef40a678062902f588aa23a7cfe93"
   },
   "outputs": [],
   "source": [
    "train.head(20)"
   ]
  },
  {
   "cell_type": "markdown",
   "metadata": {
    "_uuid": "b815d064c19a8fc2f850664f944491eef6db69ae"
   },
   "source": [
    "Nan value in age col is filled with median value of group."
   ]
  },
  {
   "cell_type": "markdown",
   "metadata": {
    "_uuid": "77e6b0346c8f85d70ad3a19c181a8c6b8a71163e"
   },
   "source": [
    "# <h3> 2-4. Age_Binning"
   ]
  },
  {
   "cell_type": "markdown",
   "metadata": {
    "_uuid": "fc0127f86742441795e24b50f8b0556af592f232"
   },
   "source": [
    "Scaling Age column with Binning"
   ]
  },
  {
   "cell_type": "code",
   "execution_count": 68,
   "metadata": {
    "_uuid": "56af1b625aeaa8cc563832ea1daa9c757239beaa",
    "collapsed": true
   },
   "outputs": [],
   "source": [
    "for dataset in train_test_data:\n",
    "    dataset.loc[ dataset['Age'] <= 16, 'Age'] = 0,\n",
    "    dataset.loc[(dataset['Age'] > 16) & (dataset['Age'] <= 26), 'Age'] = 1,\n",
    "    dataset.loc[(dataset['Age'] > 26) & (dataset['Age'] <= 36), 'Age'] = 2,\n",
    "    dataset.loc[(dataset['Age'] > 36) & (dataset['Age'] <= 62), 'Age'] = 3,\n",
    "    dataset.loc[ dataset['Age'] > 62, 'Age'] = 4"
   ]
  },
  {
   "cell_type": "markdown",
   "metadata": {
    "_uuid": "d3e88e3a5a0764d3742ec6d9cb2a893208eae1bc"
   },
   "source": [
    "age dictionary::\n",
    "<br>\n",
    "child: 0<br>\n",
    "young: 1<br>\n",
    "adult: 2<br>\n",
    "mid-age: 3<br>\n",
    "senior: 4<br>\n",
    "\n",
    "16세 이하는 0(child), 17~26세는 1(young) 등등.. 으로 변환한다는 것이다.\n",
    "<br>"
   ]
  },
  {
   "cell_type": "code",
   "execution_count": 69,
   "metadata": {
    "_uuid": "0f7d63639b79c5fcc8000d96c50930785cd468cf"
   },
   "outputs": [],
   "source": [
    "train.head()"
   ]
  },
  {
   "cell_type": "code",
   "execution_count": 70,
   "metadata": {
    "_uuid": "63ada07d6681fdfbd181b1033378d82fd3988552"
   },
   "outputs": [],
   "source": [
    "bar_chart('Age')"
   ]
  },
  {
   "cell_type": "markdown",
   "metadata": {
    "_uuid": "3850806b1e401a66ed2f3061d8c0edfa0eb73063"
   },
   "source": [
    "이제 좀 더 깔끔하게 보인다"
   ]
  },
  {
   "cell_type": "markdown",
   "metadata": {
    "_uuid": "9290c30f0ca7aed59375b2bd36f220002ff64cf5"
   },
   "source": [
    "# <h3> 2-5. Embarked"
   ]
  },
  {
   "cell_type": "markdown",
   "metadata": {
    "_uuid": "d75401004762670469190b6788d2afbc5efa5d16"
   },
   "source": []
  },
  {
   "cell_type": "code",
   "execution_count": 71,
   "metadata": {
    "_uuid": "6c9c9291fc5a7ec259f214512b03b36a407785c9",
    "collapsed": true
   },
   "outputs": [],
   "source": [
    "Pclass1 = train[train['Pclass']==1]['Embarked'].value_counts()\n",
    "Pclass2 = train[train['Pclass']==2]['Embarked'].value_counts()\n",
    "Pclass3 = train[train['Pclass']==3]['Embarked'].value_counts()\n",
    "\n",
    "#Embarked 칼럼에서 Pclass가 1인 인스턴스의 갯수를 카운트하여 Pclass1 변수에 담는다\n",
    "#2, 3도 반복\n"
   ]
  },
  {
   "cell_type": "code",
   "execution_count": 72,
   "metadata": {
    "_uuid": "14a3ac7fd289cb8c0b20b0b0bf721e51353f366a"
   },
   "outputs": [],
   "source": [
    "df = pd.DataFrame([Pclass1, Pclass2, Pclass3])\n",
    "df.index = ['1st class','2nd class', '3rd class']\n",
    "df.plot(kind='bar',stacked=True, figsize=(10,5))"
   ]
  },
  {
   "cell_type": "code",
   "execution_count": 73,
   "metadata": {
    "_uuid": "a0dd53ca2ed9842ba30a516279d40b134ece1883",
    "collapsed": true
   },
   "outputs": [],
   "source": [
    "for dataset in train_test_data: #fill Nan value with 'S'\n",
    "    dataset['Embarked'] = dataset['Embarked'].fillna('S')"
   ]
  },
  {
   "cell_type": "code",
   "execution_count": 74,
   "metadata": {
    "_uuid": "31102c403f51d341e0fc6bc69be53624b0ecbd94"
   },
   "outputs": [],
   "source": [
    "train.head()"
   ]
  },
  {
   "cell_type": "code",
   "execution_count": 75,
   "metadata": {
    "_uuid": "55d6255ae84469283a10f8cf8bbfa4dcf2be9af1",
    "collapsed": true
   },
   "outputs": [],
   "source": [
    "embarked_mapping = {\"S\": 0, \"C\": 1, \"Q\": 2}\n",
    "for dataset in train_test_data:\n",
    "    dataset['Embarked'] = dataset['Embarked'].map(embarked_mapping)"
   ]
  },
  {
   "cell_type": "code",
   "execution_count": 76,
   "metadata": {
    "_uuid": "13fc238c9ba2be7068e3b64e208854403e4f833f"
   },
   "outputs": [],
   "source": [
    "train.head() #mapping embaked value with number(non-ordered)"
   ]
  },
  {
   "cell_type": "markdown",
   "metadata": {
    "_uuid": "ebea613fc46b212bf16ae6e33f03d5e2de78ba0f"
   },
   "source": [
    "# <h3> 2-6. Fare"
   ]
  },
  {
   "cell_type": "code",
   "execution_count": 77,
   "metadata": {
    "_uuid": "94f7b4e3a158076490825e5054caa882b2fb2527",
    "collapsed": true
   },
   "outputs": [],
   "source": [
    "# fill Nan with median value of the group(Pclass)\n",
    "train[\"Fare\"].fillna(train.groupby(\"Pclass\")[\"Fare\"].transform(\"median\"), inplace=True)\n",
    "test[\"Fare\"].fillna(test.groupby(\"Pclass\")[\"Fare\"].transform(\"median\"), inplace=True)\n"
   ]
  },
  {
   "cell_type": "code",
   "execution_count": 78,
   "metadata": {
    "_uuid": "5dc2255ddd586ca8afa4fc8ce8dc9a0348ab0910"
   },
   "outputs": [],
   "source": [
    "train.head(10)"
   ]
  },
  {
   "cell_type": "markdown",
   "metadata": {
    "_uuid": "c17481bd3ecd03c8c421e61541fb39405cbb7158"
   },
   "source": [
    "Binning Fare column"
   ]
  },
  {
   "cell_type": "code",
   "execution_count": 79,
   "metadata": {
    "_uuid": "0a44448de739c49249b40df1a9c7197cdad41a6d",
    "collapsed": true
   },
   "outputs": [],
   "source": [
    "for dataset in train_test_data:\n",
    "    dataset.loc[ dataset['Fare'] <= 17, 'Fare'] = 0,\n",
    "    dataset.loc[(dataset['Fare'] > 17) & (dataset['Fare'] <= 30), 'Fare'] = 1,\n",
    "    dataset.loc[(dataset['Fare'] > 30) & (dataset['Fare'] <= 100), 'Fare'] = 2,\n",
    "    dataset.loc[ dataset['Fare'] > 100, 'Fare'] = 3"
   ]
  },
  {
   "cell_type": "code",
   "execution_count": 80,
   "metadata": {
    "_uuid": "95803bb1b54422d866a30bf79050c4351345e8e5"
   },
   "outputs": [],
   "source": [
    "train.head(20)"
   ]
  },
  {
   "cell_type": "markdown",
   "metadata": {
    "_uuid": "df37518cfeed1c9e0baf9d21fbc52cb7dec1faf3"
   },
   "source": [
    "# <h3> 2-7. Cabin"
   ]
  },
  {
   "cell_type": "code",
   "execution_count": 81,
   "metadata": {
    "_uuid": "ba8c41b8ceeb2490806765f103485acc9d97c5f4"
   },
   "outputs": [],
   "source": [
    "train.Cabin.value_counts()"
   ]
  },
  {
   "cell_type": "markdown",
   "metadata": {
    "_uuid": "979277acb9199afd947a5341684d343043ec6071"
   },
   "source": [
    "extract first letter(capital letter of alphabet)"
   ]
  },
  {
   "cell_type": "code",
   "execution_count": 82,
   "metadata": {
    "_uuid": "6039e1ae2dcc0d9754576865a890a7d26153a697",
    "collapsed": true
   },
   "outputs": [],
   "source": [
    "for dataset in train_test_data:\n",
    "    dataset['Cabin'] = dataset['Cabin'].str[:1]"
   ]
  },
  {
   "cell_type": "code",
   "execution_count": 83,
   "metadata": {
    "_uuid": "0c0076952ad828786b633d781378b517326a786d"
   },
   "outputs": [],
   "source": [
    "Pclass1 = train[train['Pclass']==1]['Cabin'].value_counts() #Pclass=1에 해당하는 Cabin 값을 카운트\n",
    "Pclass2 = train[train['Pclass']==2]['Cabin'].value_counts() #반복\n",
    "Pclass3 = train[train['Pclass']==3]['Cabin'].value_counts()\n",
    "df = pd.DataFrame([Pclass1, Pclass2, Pclass3])\n",
    "df.index = ['1st class','2nd class', '3rd class']\n",
    "df.plot(kind='bar',stacked=True, figsize=(10,5))"
   ]
  },
  {
   "cell_type": "markdown",
   "metadata": {
    "_uuid": "e6ff63c3670a7cb0534b6ddaad56908625d07cf3"
   },
   "source": [
    "1st class have ABCDE로 but 2nd and 3rd only have EFGT."
   ]
  },
  {
   "cell_type": "code",
   "execution_count": 84,
   "metadata": {
    "_uuid": "d1606bc04715d9937f037abfcedcab616c133a9d",
    "collapsed": true
   },
   "outputs": [],
   "source": [
    "cabin_mapping = {\"A\": 0, \"B\": 0.4, \"C\": 0.8, \"D\": 1.2, \"E\": 1.6, \"F\": 2, \"G\": 2.4, \"T\": 2.8}\n",
    "for dataset in train_test_data:\n",
    "    dataset['Cabin'] = dataset['Cabin'].map(cabin_mapping) #mapping cabin col"
   ]
  },
  {
   "cell_type": "code",
   "execution_count": 85,
   "metadata": {
    "_uuid": "a7165c22cf7b472bef9b4b99795904990feaaf74",
    "collapsed": true
   },
   "outputs": [],
   "source": [
    "#fill Nan in cabin col with median value of the Pclass\n",
    "train[\"Cabin\"].fillna(train.groupby(\"Pclass\")[\"Cabin\"].transform(\"median\"), inplace=True)\n",
    "test[\"Cabin\"].fillna(test.groupby(\"Pclass\")[\"Cabin\"].transform(\"median\"), inplace=True)"
   ]
  },
  {
   "cell_type": "markdown",
   "metadata": {
    "_uuid": "d6a483577d3142774a4d8c7804a74e2f11d0cdb0"
   },
   "source": [
    "# <h3> 2-8. Familysize"
   ]
  },
  {
   "cell_type": "code",
   "execution_count": 86,
   "metadata": {
    "_uuid": "ee276e7ff668276e6c6b3aa80ed8f11f7304ba15",
    "collapsed": true
   },
   "outputs": [],
   "source": [
    "train[\"FamilySize\"] = train[\"SibSp\"] + train[\"Parch\"] + 1 #sib = sibling, Parch = parents and child\n",
    "test[\"FamilySize\"] = test[\"SibSp\"] + test[\"Parch\"] + 1 \n"
   ]
  },
  {
   "cell_type": "code",
   "execution_count": 87,
   "metadata": {
    "_uuid": "7228478e1608cf4643780c3825642643be0daa47"
   },
   "outputs": [],
   "source": [
    "train[\"FamilySize\"].max()"
   ]
  },
  {
   "cell_type": "code",
   "execution_count": 88,
   "metadata": {
    "_uuid": "2111bff39f7c7fb417bea3237e262ada1b479055"
   },
   "outputs": [],
   "source": [
    "test[\"FamilySize\"].max()"
   ]
  },
  {
   "cell_type": "code",
   "execution_count": 89,
   "metadata": {
    "_uuid": "12f40b502dc7f402b1023555a30b38f13a45d3cf",
    "collapsed": true
   },
   "outputs": [],
   "source": [
    "#Scale of familysize is 1 - 11 \n",
    "\n",
    "family_mapping = {1: 0, 2: 0.4, 3: 0.8, 4: 1.2, 5: 1.6, 6: 2, 7: 2.4, 8: 2.8, 9: 3.2, 10: 3.6, 11: 4}\n",
    "for dataset in train_test_data:\n",
    "    dataset['FamilySize'] = dataset['FamilySize'].map(family_mapping)"
   ]
  },
  {
   "cell_type": "code",
   "execution_count": 90,
   "metadata": {
    "_uuid": "4f7d5c71e57fd82c0e8a8ed2f4714684236269cc"
   },
   "outputs": [],
   "source": [
    "train.head(20)"
   ]
  },
  {
   "cell_type": "code",
   "execution_count": 91,
   "metadata": {
    "_uuid": "d6923591ea03461caf4f12d0351777c268d80fec",
    "collapsed": true
   },
   "outputs": [],
   "source": [
    "#drop ticket, sibsp, parch\n",
    "features_drop = ['Ticket', 'SibSp', 'Parch']\n",
    "train = train.drop(features_drop, axis=1)\n",
    "test = test.drop(features_drop, axis=1)\n",
    "train = train.drop(['PassengerId'], axis=1) #인덱스 필요없음 "
   ]
  },
  {
   "cell_type": "code",
   "execution_count": 92,
   "metadata": {
    "_uuid": "f388310c6d369fd096e4e8dd11096f1498dbdf7d"
   },
   "outputs": [],
   "source": [
    "train.head(20)"
   ]
  },
  {
   "cell_type": "code",
   "execution_count": 93,
   "metadata": {
    "_uuid": "f24bb5452a1e9f67e21e7d9c6f0bf7ff89142f82"
   },
   "outputs": [],
   "source": [
    "train_data = train.drop('Survived', axis=1)\n",
    "target = train['Survived']\n",
    "\n",
    "train_data.shape, target.shape #using survived col as target"
   ]
  },
  {
   "cell_type": "markdown",
   "metadata": {
    "_uuid": "36931fab9e1e412bc2eda0c5fc72a56fc20a033d"
   },
   "source": [
    "# 3. Modeling"
   ]
  },
  {
   "cell_type": "code",
   "execution_count": 94,
   "metadata": {
    "_uuid": "92aad881341aafd4188d4326e512c5c34ed39b5e",
    "collapsed": true
   },
   "outputs": [],
   "source": [
    "from sklearn.neighbors import KNeighborsClassifier\n",
    "from sklearn.tree import DecisionTreeClassifier\n",
    "from sklearn.ensemble import RandomForestClassifier\n",
    "from sklearn.naive_bayes import GaussianNB\n",
    "from sklearn.svm import SVC\n",
    "\n",
    "import numpy as np"
   ]
  },
  {
   "cell_type": "code",
   "execution_count": 95,
   "metadata": {
    "_uuid": "9efc92e9364adfae566cfd08212b350009509fe4"
   },
   "outputs": [],
   "source": [
    "train.info()"
   ]
  },
  {
   "cell_type": "markdown",
   "metadata": {
    "_uuid": "89e61ca6ab7b77df659c471d0a5a65e444be883e"
   },
   "source": [
    "# <h3>3-1. Cross validation(K-fold) 교차검증 진행"
   ]
  },
  {
   "cell_type": "code",
   "execution_count": 96,
   "metadata": {
    "_uuid": "c8725040c75489e00f4361e69148b39ffccdfb0d",
    "collapsed": true
   },
   "outputs": [],
   "source": [
    "from sklearn.model_selection import KFold\n",
    "from sklearn.model_selection import cross_val_score\n",
    "k_fold = KFold(n_splits=10, shuffle=True, random_state=0) #10개의 fold로 나눈다\n"
   ]
  },
  {
   "cell_type": "markdown",
   "metadata": {
    "_uuid": "affd4e25b1688e096d4b2234da4a505857f671be"
   },
   "source": [
    "# <h3>3-1.1 kNN"
   ]
  },
  {
   "cell_type": "code",
   "execution_count": 97,
   "metadata": {
    "_uuid": "b278519eae808f8eb1dd9176aded5463d9df22f4"
   },
   "outputs": [],
   "source": [
    "clf = KNeighborsClassifier(n_neighbors = 13) #13개의 이웃을 기준으로 측정 \n",
    "scoring = 'accuracy'\n",
    "score = cross_val_score(clf, train_data, target, cv=k_fold, n_jobs=1, scoring=scoring)\n",
    "print(score) #교차 검증 스코어 "
   ]
  },
  {
   "cell_type": "markdown",
   "metadata": {
    "_uuid": "da4d2d2263287f46a4adcc94056b0fc77217fd5f"
   },
   "source": [
    "(참고)*cross_val_score parameter #파라미터\n",
    "\n",
    "cross_val_score(estimator, X, y=None, groups=None, scoring=None, cv=None, n_jobs=1, verbose=0, fit_params=None, pre_dispatch=‘2*n_jobs’)\n",
    "\n",
    "estimator : estimator object implementing ‘fit’ #사용할 모델 \n",
    "\n",
    "The object to use to fit the data.\n",
    "\n",
    "X : array-like\n",
    "\n",
    "The data to fit. Can be for example a list, or an array.#학습할 모델\n",
    "\n",
    "y : array-like, optional, default: None #Traget값 = 매개변수 = 예측할 값(칼럼)\n",
    "\n",
    "The target variable to try to predict in the case of supervised learning.\n",
    "\n",
    "cv : int, cross-validation generator or an iterable, optional #위에서 세팅한 Kfold값을 사용\n",
    "\n",
    "Determines the cross-validation splitting strategy. Possible inputs for cv are:\n",
    "\n",
    "None, to use the default 3-fold cross validation,\n",
    "integer, to specify the number of folds in a (Stratified)KFold,\n",
    "An object to be used as a cross-validation generator.\n",
    "An iterable yielding train, test splits.\n",
    "\n",
    "\n",
    "*리턴값\n",
    "scores : array of float, shape=(len(list(cv)),)\n",
    "\n",
    "Array of scores of the estimator for each run of the cross validation. #각 횟수 수행시 추정기의 점수 = 높을수록 좋다 "
   ]
  },
  {
   "cell_type": "code",
   "execution_count": 98,
   "metadata": {
    "_uuid": "7e64b4c23d076ea1eacc36616ec9362026625c58"
   },
   "outputs": [],
   "source": [
    "# kNN Score\n",
    "round(np.mean(score)*100, 2) #10번 시행시 평균 정확도"
   ]
  },
  {
   "cell_type": "markdown",
   "metadata": {
    "_uuid": "d2e8e98eb911593d9a316fe412b6796da0713374"
   },
   "source": [
    "# <h3>3-1.2 Decision Tree"
   ]
  },
  {
   "cell_type": "code",
   "execution_count": 99,
   "metadata": {
    "_uuid": "6b02761156be453a5ad9dfe0a7a4f97fe9219c02",
    "collapsed": true
   },
   "outputs": [],
   "source": [
    "clf = DecisionTreeClassifier()\n"
   ]
  },
  {
   "cell_type": "code",
   "execution_count": 100,
   "metadata": {
    "_uuid": "e371f5e57bf41239503bd4aeecb91911e6261836"
   },
   "outputs": [],
   "source": [
    "clf #특별하게 매개변수를 건드리지 않았으므로 다 디폴트 값이 주어짐"
   ]
  },
  {
   "cell_type": "markdown",
   "metadata": {
    "_uuid": "035906515385d55fc466bbab29089f7fdb2f6b60"
   },
   "source": [
    "*DecisionTreeClassifier() 매개변수는 아래 링크에서 확인\n",
    "\n",
    "http://scikit-learn.org/stable/modules/generated/sklearn.tree.DecisionTreeClassifier.html<Br>\n",
    "<br>"
   ]
  },
  {
   "cell_type": "code",
   "execution_count": 101,
   "metadata": {
    "_uuid": "be38767a956433ce5f2677d0133307071701b4fc"
   },
   "outputs": [],
   "source": [
    "scoring = 'accuracy'\n",
    "score = cross_val_score(clf, train_data, target, cv=k_fold, n_jobs=1, scoring=scoring)\n",
    "print(score) #아까와 동일 "
   ]
  },
  {
   "cell_type": "code",
   "execution_count": 102,
   "metadata": {
    "_uuid": "40c0ab83261ba058a6d1ed21ad5438aaf35e05fe"
   },
   "outputs": [],
   "source": [
    "# decision tree Score\n",
    "round(np.mean(score)*100, 2)"
   ]
  },
  {
   "cell_type": "markdown",
   "metadata": {
    "_uuid": "efc5ef159664ec86a745aa879f8e0f546de70a94"
   },
   "source": [
    "# <h3>3-1.3 Random Forest"
   ]
  },
  {
   "cell_type": "code",
   "execution_count": 103,
   "metadata": {
    "_uuid": "378f7b1e435b2aac12ce011e92b428f8e5be8dbc"
   },
   "outputs": [],
   "source": [
    "clf = RandomForestClassifier(n_estimators=13) #13개의 decision tree사용\n",
    "clf"
   ]
  },
  {
   "cell_type": "markdown",
   "metadata": {
    "_uuid": "164914a5af048a5307b15af9e0ebb2e14fd6b928"
   },
   "source": [
    "*매개변수는 아래 링크에서 확인\n",
    "\n",
    "http://scikit-learn.org/stable/modules/generated/sklearn.ensemble.RandomForestClassifier.html<br>\n",
    "<br>"
   ]
  },
  {
   "cell_type": "code",
   "execution_count": 104,
   "metadata": {
    "_uuid": "fbc5022204eaad91d0c42fb8779403757582696e"
   },
   "outputs": [],
   "source": [
    "scoring = 'accuracy'\n",
    "score = cross_val_score(clf, train_data, target, cv=k_fold, n_jobs=1, scoring=scoring)\n",
    "print(score)"
   ]
  },
  {
   "cell_type": "code",
   "execution_count": 105,
   "metadata": {
    "_uuid": "ba90c7301aa36b5cb84936e03a2798e9b6a9bf6a"
   },
   "outputs": [],
   "source": [
    "# decision tree Score\n",
    "round(np.mean(score)*100, 2)"
   ]
  },
  {
   "cell_type": "markdown",
   "metadata": {
    "_uuid": "1e92dccfb8a01fb613402b96a75e758c1ce8cb1b"
   },
   "source": [
    "# <h3>3-1.4 Naive Bayes"
   ]
  },
  {
   "cell_type": "code",
   "execution_count": 106,
   "metadata": {
    "_uuid": "69c339fc1d936f30c127dc7ad4ef1141b407b19d"
   },
   "outputs": [],
   "source": [
    "clf = GaussianNB()\n",
    "clf"
   ]
  },
  {
   "cell_type": "code",
   "execution_count": 107,
   "metadata": {
    "_uuid": "7d69a8f31d08b92f1de2e63e0f5975b0bc5d3e7b"
   },
   "outputs": [],
   "source": [
    "scoring = 'accuracy'\n",
    "score = cross_val_score(clf, train_data, target, cv=k_fold, n_jobs=1, scoring=scoring)\n",
    "print(score)"
   ]
  },
  {
   "cell_type": "code",
   "execution_count": 108,
   "metadata": {
    "_uuid": "b6f5f33f62a22d3f0aa8a77979e8ccf1143b0c79"
   },
   "outputs": [],
   "source": [
    "# Naive Bayes Score\n",
    "round(np.mean(score)*100, 2)"
   ]
  },
  {
   "cell_type": "markdown",
   "metadata": {
    "_uuid": "16452e46c5cae100289ebb4c6c6027c45d5fb8b1"
   },
   "source": [
    "# <h3>3-1.5 SVM"
   ]
  },
  {
   "cell_type": "code",
   "execution_count": 109,
   "metadata": {
    "_uuid": "5226b77f5add7a7e08bf724f405b2df17346d845"
   },
   "outputs": [],
   "source": [
    "clf = SVC()\n",
    "clf"
   ]
  },
  {
   "cell_type": "code",
   "execution_count": 110,
   "metadata": {
    "_uuid": "05439354695f3edb88e523d1055388d6be030baf"
   },
   "outputs": [],
   "source": [
    "scoring = 'accuracy'\n",
    "score = cross_val_score(clf, train_data, target, cv=k_fold, n_jobs=1, scoring=scoring)\n",
    "print(score)"
   ]
  },
  {
   "cell_type": "code",
   "execution_count": 111,
   "metadata": {
    "_uuid": "966acfbeca41d852d8b3aee169aca68eb6900bd1"
   },
   "outputs": [],
   "source": [
    "round(np.mean(score)*100,2)"
   ]
  },
  {
   "cell_type": "markdown",
   "metadata": {
    "_uuid": "c2bb1c27ff15eecc6e21404412a632a76ee2fb5c"
   },
   "source": [
    "# 4. Testing"
   ]
  },
  {
   "cell_type": "code",
   "execution_count": 113,
   "metadata": {
    "_uuid": "1973454c4299db634c46d69c574091b09d339eff"
   },
   "outputs": [],
   "source": [
    "#SVM이 제일 정확도가 높았으므로 SVM 사용\n",
    "\n",
    "clf = SVC(C=1, kernel='rbf', coef0=1)\n",
    "clf.fit(train_data, target) #학습시킬 데이터, 예측해야하는 타겟칼럼\n"
   ]
  },
  {
   "cell_type": "code",
   "execution_count": 114,
   "metadata": {
    "_uuid": "c6c0dbdfbab0d58f0244cd8f818bd1588be4c72f",
    "collapsed": true
   },
   "outputs": [],
   "source": [
    "test_data = test.drop(\"PassengerId\", axis=1).copy()\n",
    "prediction = clf.predict(test_data) \n",
    "\n",
    "#drop passengerid col"
   ]
  },
  {
   "cell_type": "code",
   "execution_count": 115,
   "metadata": {
    "_uuid": "6d24d735a40ecb5e8a0232120df8f675bd39fd1c"
   },
   "outputs": [],
   "source": [
    "prediction #result of prediction"
   ]
  },
  {
   "cell_type": "code",
   "execution_count": 116,
   "metadata": {
    "_uuid": "fea85050d6ad6e2b273f7243051aa0cb3aca6176"
   },
   "outputs": [],
   "source": [
    "import collections, numpy\n",
    "\n",
    "collections.Counter(prediction)\n",
    "#dead = 257명 / survived = 161명 "
   ]
  },
  {
   "cell_type": "markdown",
   "metadata": {
    "_uuid": "877debc1f22ec12d222af1ccc6c0cabd3f676b00"
   },
   "source": [
    "# Reference"
   ]
  },
  {
   "cell_type": "markdown",
   "metadata": {
    "_uuid": "fff443faa697d8b3f5cdadbc0c785bef1226e611"
   },
   "source": [
    "https://www.youtube.com/channel/UCxP77kNgVfiiG6CXZ5WMuAQ"
   ]
  },
  {
   "cell_type": "markdown",
   "metadata": {
    "_uuid": "4a59b89ac699b457627da8468a756266d09a24b6"
   },
   "source": [
    "http://scikit-learn.org/stable/index.html"
   ]
  },
  {
   "cell_type": "code",
   "execution_count": null,
   "metadata": {
    "_uuid": "a89e53469d135da631c315f1e7462a09944471a2",
    "collapsed": true
   },
   "outputs": [],
   "source": []
  }
 ],
 "metadata": {
  "kernelspec": {
   "display_name": "Python 3",
   "language": "python",
   "name": "python3"
  },
  "language_info": {
   "codemirror_mode": {
    "name": "ipython",
    "version": 3
   },
   "file_extension": ".py",
   "mimetype": "text/x-python",
   "name": "python",
   "nbconvert_exporter": "python",
   "pygments_lexer": "ipython3",
   "version": "3.7.3"
  },
  "widgets": {
   "application/vnd.jupyter.widget-state+json": {
    "state": {},
    "version_major": 2,
    "version_minor": 0
   }
  }
 },
 "nbformat": 4,
 "nbformat_minor": 1
}
