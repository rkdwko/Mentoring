{
 "cells": [
  {
   "cell_type": "code",
   "execution_count": 1,
   "metadata": {},
   "outputs": [
    {
     "name": "stdout",
     "output_type": "stream",
     "text": [
      "/Users/selfsee/PycharmProjects/Prj1\n"
     ]
    }
   ],
   "source": [
    "import os \n",
    "print (os.getcwd()) "
   ]
  },
  {
   "cell_type": "code",
   "execution_count": 3,
   "metadata": {},
   "outputs": [
    {
     "name": "stdout",
     "output_type": "stream",
     "text": [
      "         기간  자치구       세대        인구     인구.1     인구.2     인구.3     인구.4  \\\n",
      "0        기간  자치구       세대        합계       합계       합계      한국인      한국인   \n",
      "1        기간  자치구       세대         계       남자       여자        계       남자   \n",
      "2  2017.1/4   합계  4202888  10197604  5000005  5197599  9926968  4871560   \n",
      "3  2017.1/4  종로구    72654    162820    79675    83145   153589    75611   \n",
      "4  2017.1/4   중구    59481    133240    65790    67450   124312    61656   \n",
      "\n",
      "      인구.5    인구.6    인구.7    인구.8  세대당인구  65세이상고령자  \n",
      "0      한국인   등록외국인   등록외국인   등록외국인  세대당인구  65세이상고령자  \n",
      "1       여자       계      남자      여자  세대당인구  65세이상고령자  \n",
      "2  5055408  270636  128445  142191   2.36   1321458  \n",
      "3    77978    9231    4064    5167   2.11     25425  \n",
      "4    62656    8928    4134    4794   2.09     20764  \n"
     ]
    }
   ],
   "source": [
    "import pandas as pd\n",
    "pop_Seoul = pd.read_excel(\"ex02_data_population_in_Seoul.xls\",encording=\"utf-8\")\n",
    "print(pop_Seoul.head()) #5행만 "
   ]
  },
  {
   "cell_type": "code",
   "execution_count": 4,
   "metadata": {},
   "outputs": [
    {
     "name": "stdout",
     "output_type": "stream",
     "text": [
      "   자치구           계        계.1       계.2   65세이상고령자\n",
      "0   합계  10197604.0  9926968.0  270636.0  1321458.0\n",
      "1  종로구    162820.0   153589.0    9231.0    25425.0\n",
      "2   중구    133240.0   124312.0    8928.0    20764.0\n",
      "3  용산구    244203.0   229456.0   14747.0    36231.0\n",
      "4  성동구    311244.0   303380.0    7864.0    39997.0\n"
     ]
    }
   ],
   "source": [
    "pop_Seoul = pd.read_excel(\"ex02_data_population_in_Seoul.xls\",\n",
    "                          header = 2, #TODO \n",
    "                          usecols='B,D,G,J,N',\n",
    "                          encording=\"utf-8\" )\n",
    "print(pop_Seoul.head()) #5행만"
   ]
  },
  {
   "cell_type": "code",
   "execution_count": 9,
   "metadata": {},
   "outputs": [
    {
     "data": {
      "text/html": [
       "<div>\n",
       "<style scoped>\n",
       "    .dataframe tbody tr th:only-of-type {\n",
       "        vertical-align: middle;\n",
       "    }\n",
       "\n",
       "    .dataframe tbody tr th {\n",
       "        vertical-align: top;\n",
       "    }\n",
       "\n",
       "    .dataframe thead th {\n",
       "        text-align: right;\n",
       "    }\n",
       "</style>\n",
       "<table border=\"1\" class=\"dataframe\">\n",
       "  <thead>\n",
       "    <tr style=\"text-align: right;\">\n",
       "      <th></th>\n",
       "      <th>구별</th>\n",
       "      <th>인구수</th>\n",
       "      <th>한국인</th>\n",
       "      <th>외국인</th>\n",
       "      <th>고령자</th>\n",
       "    </tr>\n",
       "  </thead>\n",
       "  <tbody>\n",
       "    <tr>\n",
       "      <th>0</th>\n",
       "      <td>합계</td>\n",
       "      <td>10197604.0</td>\n",
       "      <td>9926968.0</td>\n",
       "      <td>270636.0</td>\n",
       "      <td>1321458.0</td>\n",
       "    </tr>\n",
       "    <tr>\n",
       "      <th>1</th>\n",
       "      <td>종로구</td>\n",
       "      <td>162820.0</td>\n",
       "      <td>153589.0</td>\n",
       "      <td>9231.0</td>\n",
       "      <td>25425.0</td>\n",
       "    </tr>\n",
       "    <tr>\n",
       "      <th>2</th>\n",
       "      <td>중구</td>\n",
       "      <td>133240.0</td>\n",
       "      <td>124312.0</td>\n",
       "      <td>8928.0</td>\n",
       "      <td>20764.0</td>\n",
       "    </tr>\n",
       "    <tr>\n",
       "      <th>3</th>\n",
       "      <td>용산구</td>\n",
       "      <td>244203.0</td>\n",
       "      <td>229456.0</td>\n",
       "      <td>14747.0</td>\n",
       "      <td>36231.0</td>\n",
       "    </tr>\n",
       "    <tr>\n",
       "      <th>4</th>\n",
       "      <td>성동구</td>\n",
       "      <td>311244.0</td>\n",
       "      <td>303380.0</td>\n",
       "      <td>7864.0</td>\n",
       "      <td>39997.0</td>\n",
       "    </tr>\n",
       "  </tbody>\n",
       "</table>\n",
       "</div>"
      ],
      "text/plain": [
       "    구별         인구수        한국인       외국인        고령자\n",
       "0   합계  10197604.0  9926968.0  270636.0  1321458.0\n",
       "1  종로구    162820.0   153589.0    9231.0    25425.0\n",
       "2   중구    133240.0   124312.0    8928.0    20764.0\n",
       "3  용산구    244203.0   229456.0   14747.0    36231.0\n",
       "4  성동구    311244.0   303380.0    7864.0    39997.0"
      ]
     },
     "execution_count": 9,
     "metadata": {},
     "output_type": "execute_result"
    }
   ],
   "source": [
    "pop_Seoul.rename(columns={pop_Seoul.columns[0]:\"구별\",\n",
    "                          pop_Seoul.columns[1]:\"인구수\",\n",
    "                          pop_Seoul.columns[2]:\"한국인\",\n",
    "                          pop_Seoul.columns[3]:\"외국인\",\n",
    "                          pop_Seoul.columns[4]:\"고령자\"}, inplace=True )\n",
    "pop_Seoul.head() #5행만"
   ]
  },
  {
   "cell_type": "code",
   "execution_count": null,
   "metadata": {},
   "outputs": [],
   "source": []
  }
 ],
 "metadata": {
  "kernelspec": {
   "display_name": "Python 3",
   "language": "python",
   "name": "python3"
  },
  "language_info": {
   "codemirror_mode": {
    "name": "ipython",
    "version": 3
   },
   "file_extension": ".py",
   "mimetype": "text/x-python",
   "name": "python",
   "nbconvert_exporter": "python",
   "pygments_lexer": "ipython3",
   "version": "3.7.0"
  }
 },
 "nbformat": 4,
 "nbformat_minor": 1
}
