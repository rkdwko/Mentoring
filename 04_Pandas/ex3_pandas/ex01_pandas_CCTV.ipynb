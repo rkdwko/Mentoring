{
 "cells": [
  {
   "cell_type": "code",
   "execution_count": 1,
   "metadata": {},
   "outputs": [
    {
     "name": "stdout",
     "output_type": "stream",
     "text": [
      "/Users/selfsee/PycharmProjects/Prj1/chapter04/ex3_pandas\n"
     ]
    }
   ],
   "source": [
    "import os \n",
    "print (os.getcwd()) \n"
   ]
  },
  {
   "cell_type": "code",
   "execution_count": 5,
   "metadata": {},
   "outputs": [
    {
     "name": "stdout",
     "output_type": "stream",
     "text": [
      "   기관명    소계  2013년도 이전  2014년  2015년  2016년\n",
      "0  강남구  2780       1292    430    584    932\n",
      "1  강동구   773        379     99    155    377\n",
      "2  강북구   748        369    120    138    204\n",
      "3  강서구   884        388    258    184     81\n",
      "4  관악구  1496        846    260    390    613\n"
     ]
    }
   ],
   "source": [
    "import pandas as pd \n",
    "\n",
    "CCTV_Seoul = pd.read_csv(\"ex01_data. CCTV_in_Seoul.csv\",encoding=\"utf-8\")  \n",
    "#TODO (\"ex01_data. CCTV_in_Seoul.csv\",encoding=\"utf-8\")\n",
    "#TODO       #5개행만 출력\n",
    "print(CCTV_Seoul.head())"
   ]
  },
  {
   "cell_type": "code",
   "execution_count": 6,
   "metadata": {},
   "outputs": [
    {
     "name": "stdout",
     "output_type": "stream",
     "text": [
      "Index(['기관명', '소계', '2013년도 이전', '2014년', '2015년', '2016년'], dtype='object')\n"
     ]
    }
   ],
   "source": [
    "print (CCTV_Seoul.columns )  #TODO  #컬럼명 전체 "
   ]
  },
  {
   "cell_type": "code",
   "execution_count": 7,
   "metadata": {},
   "outputs": [
    {
     "name": "stdout",
     "output_type": "stream",
     "text": [
      "기관명\n"
     ]
    }
   ],
   "source": [
    "print (CCTV_Seoul.columns[0] )  #TODO #첫번째 컬럼명 "
   ]
  },
  {
   "cell_type": "code",
   "execution_count": 6,
   "metadata": {},
   "outputs": [
    {
     "name": "stdout",
     "output_type": "stream",
     "text": [
      "소계\n"
     ]
    }
   ],
   "source": [
    "print (CCTV_Seoul.columns[1])  #두번째 컬럼명 "
   ]
  },
  {
   "cell_type": "code",
   "execution_count": null,
   "metadata": {},
   "outputs": [],
   "source": []
  }
 ],
 "metadata": {
  "kernelspec": {
   "display_name": "Python 3",
   "language": "python",
   "name": "python3"
  },
  "language_info": {
   "codemirror_mode": {
    "name": "ipython",
    "version": 3
   },
   "file_extension": ".py",
   "mimetype": "text/x-python",
   "name": "python",
   "nbconvert_exporter": "python",
   "pygments_lexer": "ipython3",
   "version": "3.7.0"
  }
 },
 "nbformat": 4,
 "nbformat_minor": 2
}
